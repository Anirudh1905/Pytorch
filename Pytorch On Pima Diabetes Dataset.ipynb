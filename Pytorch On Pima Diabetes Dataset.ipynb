{
 "cells": [
  {
   "cell_type": "code",
   "execution_count": 1,
   "id": "8fdf42fb",
   "metadata": {},
   "outputs": [
    {
     "data": {
      "text/html": [
       "<div>\n",
       "<style scoped>\n",
       "    .dataframe tbody tr th:only-of-type {\n",
       "        vertical-align: middle;\n",
       "    }\n",
       "\n",
       "    .dataframe tbody tr th {\n",
       "        vertical-align: top;\n",
       "    }\n",
       "\n",
       "    .dataframe thead th {\n",
       "        text-align: right;\n",
       "    }\n",
       "</style>\n",
       "<table border=\"1\" class=\"dataframe\">\n",
       "  <thead>\n",
       "    <tr style=\"text-align: right;\">\n",
       "      <th></th>\n",
       "      <th>Pregnancies</th>\n",
       "      <th>Glucose</th>\n",
       "      <th>BloodPressure</th>\n",
       "      <th>SkinThickness</th>\n",
       "      <th>Insulin</th>\n",
       "      <th>BMI</th>\n",
       "      <th>DiabetesPedigreeFunction</th>\n",
       "      <th>Age</th>\n",
       "      <th>Outcome</th>\n",
       "    </tr>\n",
       "  </thead>\n",
       "  <tbody>\n",
       "    <tr>\n",
       "      <th>0</th>\n",
       "      <td>6</td>\n",
       "      <td>148</td>\n",
       "      <td>72</td>\n",
       "      <td>35</td>\n",
       "      <td>0</td>\n",
       "      <td>33.6</td>\n",
       "      <td>0.627</td>\n",
       "      <td>50</td>\n",
       "      <td>1</td>\n",
       "    </tr>\n",
       "    <tr>\n",
       "      <th>1</th>\n",
       "      <td>1</td>\n",
       "      <td>85</td>\n",
       "      <td>66</td>\n",
       "      <td>29</td>\n",
       "      <td>0</td>\n",
       "      <td>26.6</td>\n",
       "      <td>0.351</td>\n",
       "      <td>31</td>\n",
       "      <td>0</td>\n",
       "    </tr>\n",
       "    <tr>\n",
       "      <th>2</th>\n",
       "      <td>8</td>\n",
       "      <td>183</td>\n",
       "      <td>64</td>\n",
       "      <td>0</td>\n",
       "      <td>0</td>\n",
       "      <td>23.3</td>\n",
       "      <td>0.672</td>\n",
       "      <td>32</td>\n",
       "      <td>1</td>\n",
       "    </tr>\n",
       "    <tr>\n",
       "      <th>3</th>\n",
       "      <td>1</td>\n",
       "      <td>89</td>\n",
       "      <td>66</td>\n",
       "      <td>23</td>\n",
       "      <td>94</td>\n",
       "      <td>28.1</td>\n",
       "      <td>0.167</td>\n",
       "      <td>21</td>\n",
       "      <td>0</td>\n",
       "    </tr>\n",
       "    <tr>\n",
       "      <th>4</th>\n",
       "      <td>0</td>\n",
       "      <td>137</td>\n",
       "      <td>40</td>\n",
       "      <td>35</td>\n",
       "      <td>168</td>\n",
       "      <td>43.1</td>\n",
       "      <td>2.288</td>\n",
       "      <td>33</td>\n",
       "      <td>1</td>\n",
       "    </tr>\n",
       "  </tbody>\n",
       "</table>\n",
       "</div>"
      ],
      "text/plain": [
       "   Pregnancies  Glucose  BloodPressure  SkinThickness  Insulin   BMI  \\\n",
       "0            6      148             72             35        0  33.6   \n",
       "1            1       85             66             29        0  26.6   \n",
       "2            8      183             64              0        0  23.3   \n",
       "3            1       89             66             23       94  28.1   \n",
       "4            0      137             40             35      168  43.1   \n",
       "\n",
       "   DiabetesPedigreeFunction  Age  Outcome  \n",
       "0                     0.627   50        1  \n",
       "1                     0.351   31        0  \n",
       "2                     0.672   32        1  \n",
       "3                     0.167   21        0  \n",
       "4                     2.288   33        1  "
      ]
     },
     "execution_count": 1,
     "metadata": {},
     "output_type": "execute_result"
    }
   ],
   "source": [
    "import pandas as pd\n",
    "df=pd.read_csv('diabetes.csv')\n",
    "df.head()"
   ]
  },
  {
   "cell_type": "code",
   "execution_count": 2,
   "id": "b40ba75d",
   "metadata": {},
   "outputs": [
    {
     "data": {
      "text/plain": [
       "Pregnancies                 0\n",
       "Glucose                     0\n",
       "BloodPressure               0\n",
       "SkinThickness               0\n",
       "Insulin                     0\n",
       "BMI                         0\n",
       "DiabetesPedigreeFunction    0\n",
       "Age                         0\n",
       "Outcome                     0\n",
       "dtype: int64"
      ]
     },
     "execution_count": 2,
     "metadata": {},
     "output_type": "execute_result"
    }
   ],
   "source": [
    "df.isnull().sum()"
   ]
  },
  {
   "cell_type": "code",
   "execution_count": 3,
   "id": "d04742f4",
   "metadata": {},
   "outputs": [],
   "source": [
    "import numpy as np\n",
    "x=df.drop('Outcome',axis=1).values\n",
    "y=df['Outcome'].values"
   ]
  },
  {
   "cell_type": "code",
   "execution_count": 4,
   "id": "e5dfa3dc",
   "metadata": {},
   "outputs": [],
   "source": [
    "from sklearn.model_selection import train_test_split\n",
    "\n",
    "x_train,x_test,y_train,y_test=train_test_split(x,y,test_size=0.2,random_state=0)"
   ]
  },
  {
   "cell_type": "code",
   "execution_count": 5,
   "id": "767633bd",
   "metadata": {},
   "outputs": [],
   "source": [
    "import torch\n",
    "import torch.nn as nn\n",
    "import torch.nn.functional as F"
   ]
  },
  {
   "cell_type": "code",
   "execution_count": 6,
   "id": "d9f5372b",
   "metadata": {},
   "outputs": [],
   "source": [
    "x_train=torch.FloatTensor(x_train)\n",
    "x_test=torch.FloatTensor(x_test)\n",
    "y_train=torch.LongTensor(y_train)\n",
    "y_test=torch.LongTensor(y_test)"
   ]
  },
  {
   "cell_type": "code",
   "execution_count": 7,
   "id": "6aa87de7",
   "metadata": {},
   "outputs": [
    {
     "data": {
      "text/plain": [
       "(768, 8)"
      ]
     },
     "execution_count": 7,
     "metadata": {},
     "output_type": "execute_result"
    }
   ],
   "source": [
    "x.shape"
   ]
  },
  {
   "cell_type": "code",
   "execution_count": 8,
   "id": "4222cbcb",
   "metadata": {},
   "outputs": [],
   "source": [
    "class ANN_model(nn.Module):\n",
    "    def __init__(self,ip_features,hidden1=20,hidden2=20,out_features=2):\n",
    "        super().__init__()\n",
    "        self.fc1=nn.Linear(ip_features,hidden1)\n",
    "        self.fc2=nn.Linear(hidden1,hidden2)\n",
    "        self.out=nn.Linear(hidden2,out_features)\n",
    "    \n",
    "    def forward(self,x):\n",
    "        x=F.relu(self.fc1(x))\n",
    "        x=F.relu(self.fc2(x))\n",
    "        x=self.out(x)\n",
    "        return x"
   ]
  },
  {
   "cell_type": "code",
   "execution_count": 9,
   "id": "8e3d6c38",
   "metadata": {},
   "outputs": [
    {
     "data": {
      "text/plain": [
       "<bound method Module.parameters of ANN_model(\n",
       "  (fc1): Linear(in_features=8, out_features=20, bias=True)\n",
       "  (fc2): Linear(in_features=20, out_features=20, bias=True)\n",
       "  (out): Linear(in_features=20, out_features=2, bias=True)\n",
       ")>"
      ]
     },
     "execution_count": 9,
     "metadata": {},
     "output_type": "execute_result"
    }
   ],
   "source": [
    "torch.manual_seed(20)\n",
    "model=ANN_model(ip_features=x.shape[1],out_features=2)\n",
    "model.parameters"
   ]
  },
  {
   "cell_type": "code",
   "execution_count": 10,
   "id": "f7cdad15",
   "metadata": {},
   "outputs": [],
   "source": [
    "loss_fn=nn.CrossEntropyLoss()\n",
    "optimizer=torch.optim.Adam(model.parameters(),lr=0.01)"
   ]
  },
  {
   "cell_type": "code",
   "execution_count": 11,
   "id": "5dfb0a0b",
   "metadata": {},
   "outputs": [
    {
     "name": "stdout",
     "output_type": "stream",
     "text": [
      "Epoch Number: 0 and Loss: 3.4572105407714844\n",
      "Epoch Number: 10 and Loss: 0.8019207119941711\n",
      "Epoch Number: 20 and Loss: 0.609032154083252\n",
      "Epoch Number: 30 and Loss: 0.5917771458625793\n",
      "Epoch Number: 40 and Loss: 0.5679708123207092\n",
      "Epoch Number: 50 and Loss: 0.5529041886329651\n",
      "Epoch Number: 60 and Loss: 0.5410094857215881\n",
      "Epoch Number: 70 and Loss: 0.5310389995574951\n",
      "Epoch Number: 80 and Loss: 0.5220361351966858\n",
      "Epoch Number: 90 and Loss: 0.5135971903800964\n",
      "Epoch Number: 100 and Loss: 0.5061254501342773\n",
      "Epoch Number: 110 and Loss: 0.49834102392196655\n",
      "Epoch Number: 120 and Loss: 0.49605512619018555\n",
      "Epoch Number: 130 and Loss: 0.48286372423171997\n",
      "Epoch Number: 140 and Loss: 0.4756035804748535\n",
      "Epoch Number: 150 and Loss: 0.483346551656723\n",
      "Epoch Number: 160 and Loss: 0.48827385902404785\n",
      "Epoch Number: 170 and Loss: 0.46933698654174805\n",
      "Epoch Number: 180 and Loss: 0.4662608802318573\n",
      "Epoch Number: 190 and Loss: 0.45597580075263977\n",
      "Epoch Number: 200 and Loss: 0.4466378688812256\n",
      "Epoch Number: 210 and Loss: 0.43963825702667236\n",
      "Epoch Number: 220 and Loss: 0.43641966581344604\n",
      "Epoch Number: 230 and Loss: 0.44081151485443115\n",
      "Epoch Number: 240 and Loss: 0.4275386333465576\n",
      "Epoch Number: 250 and Loss: 0.4217402935028076\n",
      "Epoch Number: 260 and Loss: 0.43123912811279297\n",
      "Epoch Number: 270 and Loss: 0.42490264773368835\n",
      "Epoch Number: 280 and Loss: 0.41047024726867676\n",
      "Epoch Number: 290 and Loss: 0.429912269115448\n",
      "Epoch Number: 300 and Loss: 0.40727412700653076\n",
      "Epoch Number: 310 and Loss: 0.41343626379966736\n",
      "Epoch Number: 320 and Loss: 0.4021834433078766\n",
      "Epoch Number: 330 and Loss: 0.3914094567298889\n",
      "Epoch Number: 340 and Loss: 0.49329671263694763\n",
      "Epoch Number: 350 and Loss: 0.39892005920410156\n",
      "Epoch Number: 360 and Loss: 0.4036122262477875\n",
      "Epoch Number: 370 and Loss: 0.38886216282844543\n",
      "Epoch Number: 380 and Loss: 0.384917289018631\n",
      "Epoch Number: 390 and Loss: 0.37841522693634033\n",
      "Epoch Number: 400 and Loss: 0.375024676322937\n",
      "Epoch Number: 410 and Loss: 0.3718286156654358\n",
      "Epoch Number: 420 and Loss: 0.3691188097000122\n",
      "Epoch Number: 430 and Loss: 0.4410240948200226\n",
      "Epoch Number: 440 and Loss: 0.4240630567073822\n",
      "Epoch Number: 450 and Loss: 0.3820432424545288\n",
      "Epoch Number: 460 and Loss: 0.36671456694602966\n",
      "Epoch Number: 470 and Loss: 0.3596440553665161\n",
      "Epoch Number: 480 and Loss: 0.355563223361969\n",
      "Epoch Number: 490 and Loss: 0.35206255316734314\n"
     ]
    }
   ],
   "source": [
    "epochs=500\n",
    "losses=[]\n",
    "for i in range(epochs):\n",
    "    y_pred=model.forward(x_train)\n",
    "    loss=loss_fn(y_pred,y_train)\n",
    "    losses.append(loss)\n",
    "    if i%10==0:\n",
    "        print(\"Epoch Number: {} and Loss: {}\".format(i,loss.item()))\n",
    "    optimizer.zero_grad()\n",
    "    loss.backward()\n",
    "    optimizer.step()"
   ]
  },
  {
   "cell_type": "code",
   "execution_count": 12,
   "id": "1685c94f",
   "metadata": {},
   "outputs": [
    {
     "data": {
      "image/png": "[encoded data removed]",
      "text/plain": [
       "<Figure size 640x480 with 1 Axes>"
      ]
     },
     "metadata": {},
     "output_type": "display_data"
    }
   ],
   "source": [
    "import matplotlib.pyplot as plt\n",
    "with torch.no_grad():\n",
    "    plt.plot(range(epochs),losses)\n",
    "    plt.ylabel('Loss')\n",
    "    plt.xlabel('Epoch')"
   ]
  },
  {
   "cell_type": "code",
   "execution_count": 13,
   "id": "2eb57175",
   "metadata": {},
   "outputs": [],
   "source": [
    "preds=[]\n",
    "with torch.no_grad():\n",
    "    for i,data in enumerate(x_test):\n",
    "        y_pred=model(data)\n",
    "        preds.append(y_pred.argmax().item())"
   ]
  },
  {
   "cell_type": "code",
   "execution_count": 14,
   "id": "0d800b8e",
   "metadata": {},
   "outputs": [
    {
     "name": "stdout",
     "output_type": "stream",
     "text": [
      "              precision    recall  f1-score   support\n",
      "\n",
      "           0       0.84      0.85      0.85       107\n",
      "           1       0.65      0.64      0.65        47\n",
      "\n",
      "    accuracy                           0.79       154\n",
      "   macro avg       0.75      0.74      0.75       154\n",
      "weighted avg       0.78      0.79      0.79       154\n",
      "\n"
     ]
    }
   ],
   "source": [
    "from sklearn.metrics import classification_report\n",
    "with torch.no_grad():\n",
    "    print(classification_report(y_test,preds))"
   ]
  },
  {
   "cell_type": "code",
   "execution_count": 15,
   "id": "056482e5",
   "metadata": {},
   "outputs": [
    {
     "name": "stdout",
     "output_type": "stream",
     "text": [
      "0.7857142857142857\n"
     ]
    }
   ],
   "source": [
    "from sklearn.metrics import accuracy_score\n",
    "with torch.no_grad():\n",
    "    score=accuracy_score(y_test,preds)\n",
    "    print(score)"
   ]
  },
  {
   "cell_type": "code",
   "execution_count": 16,
   "id": "eb07e579",
   "metadata": {},
   "outputs": [],
   "source": [
    "torch.save(model,'diabetes.pt')"
   ]
  },
  {
   "cell_type": "code",
   "execution_count": 17,
   "id": "108d41bc",
   "metadata": {},
   "outputs": [],
   "source": [
    "model=torch.load('diabetes.pt')"
   ]
  },
  {
   "cell_type": "code",
   "execution_count": 18,
   "id": "f02c0e5a",
   "metadata": {},
   "outputs": [
    {
     "data": {
      "text/plain": [
       "ANN_model(\n",
       "  (fc1): Linear(in_features=8, out_features=20, bias=True)\n",
       "  (fc2): Linear(in_features=20, out_features=20, bias=True)\n",
       "  (out): Linear(in_features=20, out_features=2, bias=True)\n",
       ")"
      ]
     },
     "execution_count": 18,
     "metadata": {},
     "output_type": "execute_result"
    }
   ],
   "source": [
    "model.eval()"
   ]
  },
  {
   "cell_type": "code",
   "execution_count": 19,
   "id": "d4ed1a23",
   "metadata": {},
   "outputs": [
    {
     "name": "stdout",
     "output_type": "stream",
     "text": [
      "Diabetes\n"
     ]
    }
   ],
   "source": [
    "test=torch.tensor(list(df.iloc[0,:-1]))\n",
    "with torch.no_grad():\n",
    "    pred = model(test).argmax().item()\n",
    "    if pred:\n",
    "        print(\"Diabetes\")\n",
    "    else:\n",
    "        print(\"No Diabetes\")"
   ]
  }
 ],
 "metadata": {
  "kernelspec": {
   "display_name": "pytorch",
   "language": "python",
   "name": "pytorch"
  },
  "language_info": {
   "codemirror_mode": {
    "name": "ipython",
    "version": 3
   },
   "file_extension": ".py",
   "mimetype": "text/x-python",
   "name": "python",
   "nbconvert_exporter": "python",
   "pygments_lexer": "ipython3",
   "version": "3.7.16"
  }
 },
 "nbformat": 4,
 "nbformat_minor": 5
}
